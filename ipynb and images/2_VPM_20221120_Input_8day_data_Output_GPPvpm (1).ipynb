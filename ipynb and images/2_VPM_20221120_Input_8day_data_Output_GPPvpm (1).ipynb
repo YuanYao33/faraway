{
 "cells": [
  {
   "cell_type": "code",
   "execution_count": 1,
   "id": "d9d958b2-3660-474d-a1df-ff6d0288b465",
   "metadata": {},
   "outputs": [],
   "source": [
    "#input 8-day data\n",
    "import pandas as pd\n",
    "import numpy as np\n",
    "url = \"8-day_DATA_US-Ho2_2007_2020_From_1-day.csv\" # 8-day intervals\n",
    "\n",
    "#input parameter\n",
    "SOS = 16\n",
    "EOS = 38\n",
    "Tmax = 40 #℃\n",
    "Tmin = -1\n",
    "Topt = 20\n",
    "e0 = 0.42 # g C /mol PPFD\n",
    "SOS = 19 # Number of moments in MODIS timeline\n",
    "EOS = 34\n",
    "\n",
    "data_train = pd.read_csv(url)\n",
    "#Converting data types to date types\n",
    "data_train['Date'] = pd.to_datetime(data_train['Date'])\n",
    "#Set date to index\n",
    "df = data_train.set_index('Date')\n",
    "\n",
    "# Get data for a year like 2010\n",
    "#print(df['2010'].head())\n",
    "# Get data for a year-month like 2013-11\n",
    "#print(df['2013-11'].head())"
   ]
  },
  {
   "cell_type": "code",
   "execution_count": 2,
   "id": "e95e342f-0606-4e58-9a02-df3efd136029",
   "metadata": {},
   "outputs": [],
   "source": [
    "#Calculated LSWI maximum for growing season (April to November) of each year\n",
    "\n",
    "# (Not yet finished) It can be updated to \"Automatic extraction of start and end years as markers for year-by-year cycle\"\n",
    "Start_Year = 2007\n",
    "End_Year = 2021\n",
    "LSWImax_EveryYear = [] # Declare an empty list to store maxinmun of 'GF_LSWI' in growing season(April-Novermber) year by year\n",
    "for i_year in range(Start_Year,End_Year):\n",
    "\n",
    "    i_time_start = str(i_year) + '-04' #Convert the data type from int to str in order to retrieve (the retrieved object is a string)\n",
    "    i_time_end = str(i_year) + '-11' #Convert the data type from int to str in order to retrieve (the retrieved object is a string)\n",
    "    test = df[i_time_start:i_time_end]['GF_LSWI'].max() #Output maxinmun of 'GF_LSWI' in growing season(April-Novermber) year by year \n",
    "    LSWImax_EveryYear.append(test) #Saving values year by year\n",
    "    \n",
    "#print(LSWImax_EveryYear)\n"
   ]
  },
  {
   "cell_type": "code",
   "execution_count": 3,
   "id": "d0fa433d-0172-4fd6-91b5-eedc3370c856",
   "metadata": {},
   "outputs": [],
   "source": [
    "#Further calculations, excluding noise - Calculated LSWI maximum for growing season (April to November) of each year\n",
    "\n",
    "#When the model calculation was performed, the LSWImax was not consistent for each year, \n",
    "#but considering that the study site is a natural forest with little variation in similar years, \n",
    "#the LSWImax for year Yx was taken as the second largest value of the LSWImax from the first two years to the last two years \n",
    "#in order to reduce the influence of anomalies received by the LSWImax (e.g., high values due to extreme precipitation, or high values due to winter snow)\n",
    "\n",
    "#Function# \"window_cut\": Perform a sliding window operation on a list and select the data in the window\n",
    "#data_list: the original data column. \n",
    "#windows_size: the size of the window.  \n",
    "#step: step length of the window.\n",
    "def window_cut(data_list, window_size, step):\n",
    "    data_len = len(data_list)\n",
    "    cut_num = int((data_len - window_size) / step)\n",
    "    res = []\n",
    "    for i in range(cut_num+1):\n",
    "        start_index = i  * step\n",
    "        end_index = start_index + window_size\n",
    "        cur_data = data_list[start_index:end_index]\n",
    "        #print(cur_data) #Output the list inside each window\n",
    "        res.append(cur_data)        \n",
    "    return res\n",
    "\n",
    "window_size = 5\n",
    "step = 1\n",
    "LSWImax_EveryYear_in_window = window_cut(LSWImax_EveryYear, window_size, step)\n",
    "#print(window_cut(LSWImax_EveryYear, window_size, step))\n",
    "\n",
    "Second_LSWImax_Every_5_Year = []\n",
    "for i in range(len(LSWImax_EveryYear_in_window)):\n",
    "    tempo = LSWImax_EveryYear_in_window[i]\n",
    "    tempo = np.array(tempo)\n",
    "    max2 = np.sort(tempo)[-2]\n",
    "    Second_LSWImax_Every_5_Year.append(max2) #Second_LSWImax_Every_5_Year contain 2009-2018\n",
    "\n",
    "Second_LSWImax_Every_5_Year_all = [] #Second_LSWImax_Every_5_Year_all contain 2007-2020\n",
    "Second_LSWImax_Every_5_Year_all.append(Second_LSWImax_Every_5_Year[0])\n",
    "Second_LSWImax_Every_5_Year_all.append(Second_LSWImax_Every_5_Year[0])\n",
    "for i in range(len(Second_LSWImax_Every_5_Year)):\n",
    "    Second_LSWImax_Every_5_Year_all.append(Second_LSWImax_Every_5_Year[i])\n",
    "Second_LSWImax_Every_5_Year_all.append(Second_LSWImax_Every_5_Year[len(Second_LSWImax_Every_5_Year)-1])\n",
    "Second_LSWImax_Every_5_Year_all.append(Second_LSWImax_Every_5_Year[len(Second_LSWImax_Every_5_Year)-1])\n"
   ]
  },
  {
   "cell_type": "code",
   "execution_count": 4,
   "id": "f23b3a76-7d52-4666-a7ad-f6c6c47db9b6",
   "metadata": {},
   "outputs": [],
   "source": [
    "#Calculate Wscalar\n",
    "\n",
    "#Assign the calculated LSWImax per year to an array of 8-day intervals\n",
    "Second_LSWImax_Every_5_Year_8_interval = []\n",
    "for i in range(len(Second_LSWImax_Every_5_Year_all)):\n",
    "    for j in range(46):\n",
    "        Second_LSWImax_Every_5_Year_8_interval.append(Second_LSWImax_Every_5_Year_all[i])\n",
    "\n",
    "data_train['Second_LSWImax_Every_5_Year_8_interval'] = Second_LSWImax_Every_5_Year_8_interval\n",
    "\n",
    "Second_LSWImax_Every_5_Year_8_interval = data_train['Second_LSWImax_Every_5_Year_8_interval'] \n",
    "LSWI = data_train['GF_LSWI']\n",
    "\n",
    "Wscalar = (1 + LSWI) / (1 + Second_LSWImax_Every_5_Year_8_interval)\n",
    "data_train['Wscalar_Calculate'] = Wscalar\n"
   ]
  },
  {
   "cell_type": "code",
   "execution_count": 5,
   "id": "f1538892-2373-44a8-b5c6-114c04062842",
   "metadata": {},
   "outputs": [
    {
     "name": "stdout",
     "output_type": "stream",
     "text": [
      "0      0.324079\n",
      "1      0.000000\n",
      "2      0.000000\n",
      "3      0.000000\n",
      "4      0.000000\n",
      "         ...   \n",
      "639    0.104428\n",
      "640    0.385632\n",
      "641    0.000000\n",
      "642    0.000000\n",
      "643    0.116576\n",
      "Name: Tscalar_Calculate, Length: 644, dtype: float64\n"
     ]
    }
   ],
   "source": [
    "#Calculate Tscalar\n",
    "\n",
    "#Assign the calculated LSWImax per year to an array of 8-day intervals\n",
    "\n",
    "Tec = data_train['TA_8D']\n",
    "\n",
    "T_Abstract_Tmin = Tec - Tmin;\n",
    "T_Abstract_Tmax = Tec - Tmax;\n",
    "T_Abstract_Topt = Tec - Topt;\n",
    "Tscalar = (T_Abstract_Tmin * T_Abstract_Tmax) / ((T_Abstract_Tmin * T_Abstract_Tmax) - (T_Abstract_Topt * T_Abstract_Topt)) \n",
    "\n",
    "Tscalar[Tscalar<0] = 0 #Should have taken Tec < Tmin Tscalar is 0, here directly take Tscalar (Tscalar < 0) = 0\n",
    "\n",
    "data_train['Tscalar_Calculate'] = Tscalar\n",
    "print(data_train['Tscalar_Calculate'])"
   ]
  },
  {
   "cell_type": "code",
   "execution_count": 6,
   "id": "c95fcd6a-b1f0-495e-b274-a395ff5f476f",
   "metadata": {},
   "outputs": [],
   "source": [
    "#Calculate FPAR\n",
    "\n",
    "EVI = data_train['GF_EVI']\n",
    "FPAR_PAV = (EVI - 0.1) * 1.25\n",
    "data_train['FPAR_PAV_Calculate'] = FPAR_PAV\n"
   ]
  },
  {
   "cell_type": "code",
   "execution_count": 7,
   "id": "e8882025-f71e-4cab-8b39-30bfef5ba8dd",
   "metadata": {},
   "outputs": [],
   "source": [
    "#Calculate eg\n",
    "\n",
    "eg =  e0 * Tscalar * Wscalar\n",
    "data_train['eg_Calculate'] = eg\n"
   ]
  },
  {
   "cell_type": "code",
   "execution_count": 8,
   "id": "3edc2802-5b5d-4d37-972b-c851acbca206",
   "metadata": {},
   "outputs": [
    {
     "name": "stdout",
     "output_type": "stream",
     "text": [
      "0           NaN\n",
      "1      0.000000\n",
      "2      0.000000\n",
      "3      0.000000\n",
      "4      0.000000\n",
      "         ...   \n",
      "639    0.079089\n",
      "640    0.319948\n",
      "641    0.000000\n",
      "642    0.000000\n",
      "643    0.112510\n",
      "Name: GPPvpm_Calculate, Length: 644, dtype: float64\n"
     ]
    }
   ],
   "source": [
    "#Calculate GPPvpm\n",
    "\n",
    "PAR = data_train['PAR_8D']\n",
    "GPPvpm = eg * FPAR_PAV * PAR\n",
    "GPPvpm[GPPvpm<0] = 0\n",
    "data_train['GPPvpm_Calculate'] = GPPvpm\n",
    "print(data_train['GPPvpm_Calculate'])\n"
   ]
  },
  {
   "cell_type": "code",
   "execution_count": 9,
   "id": "ae404f62-8d98-47c6-b823-ac47c48d4d9d",
   "metadata": {},
   "outputs": [],
   "source": [
    "data_train.to_csv(\"8-day_DATA_US-Ho2_2007_2020_ForPY_Calculate.csv\",index=False,sep=',')"
   ]
  },
  {
   "cell_type": "code",
   "execution_count": null,
   "id": "2e663f39-ef66-44a8-98a6-3e35dc0789e0",
   "metadata": {},
   "outputs": [],
   "source": []
  }
 ],
 "metadata": {
  "kernelspec": {
   "display_name": "Python 3 (ipykernel)",
   "language": "python",
   "name": "python3"
  },
  "language_info": {
   "codemirror_mode": {
    "name": "ipython",
    "version": 3
   },
   "file_extension": ".py",
   "mimetype": "text/x-python",
   "name": "python",
   "nbconvert_exporter": "python",
   "pygments_lexer": "ipython3",
   "version": "3.9.12"
  }
 },
 "nbformat": 4,
 "nbformat_minor": 5
}
